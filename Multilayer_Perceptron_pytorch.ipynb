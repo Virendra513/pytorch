{
  "nbformat": 4,
  "nbformat_minor": 0,
  "metadata": {
    "colab": {
      "provenance": [],
      "gpuType": "T4",
      "authorship_tag": "ABX9TyO2TEt4O995wGGKQuCt3aFl"
    },
    "kernelspec": {
      "name": "python3",
      "display_name": "Python 3"
    },
    "language_info": {
      "name": "python"
    },
    "accelerator": "GPU"
  },
  "cells": [
    {
      "cell_type": "markdown",
      "source": [
        "# Mutilayer Perceptron for classification using pytorch\n",
        "A Multi-Layer Perceptron (MLP) is a class of feedforward artificial neural networks (ANN) that consists of multiple layers of neurons. It is one of the most basic and foundational architectures in deep learning and can be used for both regression and classification tasks. MLPs are fully connected, meaning every neuron in one layer is connected to every neuron in the next layer."
      ],
      "metadata": {
        "id": "CptLwIW8eNzE"
      }
    },
    {
      "cell_type": "code",
      "source": [
        "# Import libraies\n",
        "import torch\n",
        "import torch.nn as nn\n",
        "import torch.optim as optim\n",
        "from sklearn.datasets import make_classification\n",
        "from sklearn.model_selection import train_test_split\n",
        "from sklearn.preprocessing import StandardScaler"
      ],
      "metadata": {
        "id": "sRul6dazeaEB"
      },
      "execution_count": null,
      "outputs": []
    },
    {
      "cell_type": "code",
      "source": [
        "# Creating a classification dataset\n",
        "X,y =make_classification(n_samples=1000, n_features=20, n_classes=2, random_state=42)\n",
        "X_train, X_test, y_train, y_test=train_test_split(X,y, test_size=0.2, random_state=42)\n",
        "\n",
        "# Convert to Pytorch tensors\n",
        "X_train=torch.tensor(X_train, dtype=torch.float32)\n",
        "X_test=torch.tensor(X_test, dtype=torch.float32)\n",
        "y_train=torch.tensor(y_train, dtype=torch.float32).unsqueeze(1)\n",
        "y_test=torch.tensor(y_test, dtype=torch.float32).unsqueeze(1)"
      ],
      "metadata": {
        "id": "D0auovcBeb2W"
      },
      "execution_count": null,
      "outputs": []
    },
    {
      "cell_type": "code",
      "source": [
        "X_train[:2], y_train[:2]"
      ],
      "metadata": {
        "colab": {
          "base_uri": "https://localhost:8080/"
        },
        "id": "His0_yJ7eqTm",
        "outputId": "10c9fdc3-532b-4d1c-eaab-ddf4cce564e5"
      },
      "execution_count": null,
      "outputs": [
        {
          "output_type": "execute_result",
          "data": {
            "text/plain": [
              "(tensor([[ 0.5036, -1.5137, -0.4691,  1.9018, -0.8706,  1.8200,  1.6629,  1.2911,\n",
              "          -0.1671, -1.0472,  1.4300,  0.2010,  1.2758, -1.1326,  1.7501, -1.4089,\n",
              "           0.0330, -0.8034, -1.3141,  1.4121],\n",
              "         [-0.6977,  0.3452, -1.7982,  1.2280, -0.5181, -0.1456, -2.2236,  1.2434,\n",
              "          -0.3865, -0.5998, -0.3010, -0.6314, -1.7939, -0.3348, -0.6873, -0.5667,\n",
              "          -0.6535, -0.6571,  0.2114, -1.3816]]),\n",
              " tensor([[1.],\n",
              "         [0.]]))"
            ]
          },
          "metadata": {},
          "execution_count": 5
        }
      ]
    },
    {
      "cell_type": "code",
      "source": [
        "X_train.shape, y_train.shape,X_test.shape, y_test.shape"
      ],
      "metadata": {
        "colab": {
          "base_uri": "https://localhost:8080/"
        },
        "id": "iDvNJKgDesQi",
        "outputId": "f4223a12-4f10-44f0-a59b-6da63d2fc240"
      },
      "execution_count": null,
      "outputs": [
        {
          "output_type": "execute_result",
          "data": {
            "text/plain": [
              "(torch.Size([800, 20]),\n",
              " torch.Size([800, 1]),\n",
              " torch.Size([200, 20]),\n",
              " torch.Size([200, 1]))"
            ]
          },
          "metadata": {},
          "execution_count": 6
        }
      ]
    },
    {
      "cell_type": "code",
      "source": [
        "# Define a Multilayer perceptron\n",
        "class MLP(nn.Module):\n",
        "    def __init__(self):\n",
        "        super(MLP, self).__init__()\n",
        "        self.fc1=nn.Linear(20,64)\n",
        "        self.fc2=nn.Linear(64,64)\n",
        "        self.fc3=nn.Linear(64,1)\n",
        "        self.relu=nn.ReLU()\n",
        "        self.sigmoid=nn.Sigmoid()\n",
        "\n",
        "    def forward(self,x):\n",
        "        x=self.relu(self.fc1(x))\n",
        "        x=self.relu(self.fc2(x))\n",
        "        x=self.sigmoid(self.fc3(x))\n",
        "        return x"
      ],
      "metadata": {
        "id": "09GYg1e_evwA"
      },
      "execution_count": null,
      "outputs": []
    },
    {
      "cell_type": "code",
      "source": [
        "# Insantiate the model, define loss and optimizer\n",
        "model=MLP()\n",
        "criterion=nn.BCELoss()\n",
        "optimizer=optim.Adam(model.parameters(), lr=0.001)"
      ],
      "metadata": {
        "id": "q7PdEPkAe0aT"
      },
      "execution_count": null,
      "outputs": []
    },
    {
      "cell_type": "code",
      "source": [
        "import torch\n",
        "if torch.cuda.is_available():\n",
        "  print(torch.cuda.get_device_name(0))"
      ],
      "metadata": {
        "colab": {
          "base_uri": "https://localhost:8080/"
        },
        "id": "TG2T0Iche4J0",
        "outputId": "27664694-ec3e-4990-c501-f23406090029"
      },
      "execution_count": null,
      "outputs": [
        {
          "output_type": "stream",
          "name": "stdout",
          "text": [
            "Tesla T4\n"
          ]
        }
      ]
    },
    {
      "cell_type": "code",
      "source": [
        "import matplotlib.pyplot as plt\n",
        "\n",
        "# Lists to store training and testing loss values\n",
        "train_loss_values = []\n",
        "test_loss_values = []\n",
        "\n",
        "# Training loop\n",
        "for epoch in range(300):\n",
        "    # Set model to training mode\n",
        "    model.train()\n",
        "\n",
        "    # Forward pass on training data\n",
        "    y_train_pred = model(X_train)\n",
        "\n",
        "    # Compute training loss\n",
        "    train_loss = criterion(y_train_pred, y_train)\n",
        "\n",
        "    # Backward pass and optimize\n",
        "    optimizer.zero_grad()\n",
        "    train_loss.backward()\n",
        "    optimizer.step()\n",
        "\n",
        "    # Store the training loss\n",
        "    train_loss_values.append(train_loss.item())\n",
        "\n",
        "    # Set model to evaluation mode for testing\n",
        "    model.eval()\n",
        "\n",
        "    # Disable gradient calculation for testing\n",
        "    with torch.no_grad():\n",
        "        # Forward pass on testing/validation data\n",
        "        y_test_pred = model(X_test)\n",
        "\n",
        "        # Compute testing/validation loss\n",
        "        test_loss = criterion(y_test_pred, y_test)\n",
        "\n",
        "        # Store the testing/validation loss\n",
        "        test_loss_values.append(test_loss.item())\n",
        "\n",
        "    # Print the epoch and losses\n",
        "    print(f\"Epoch {epoch+1}, Train Loss: {train_loss.item()}, Test Loss: {test_loss.item()}\")\n",
        "\n",
        "# Plotting the training and testing loss\n",
        "plt.plot(range(1, 301), train_loss_values, label=\"Training Loss\")\n",
        "\n",
        "# Labels and title\n",
        "plt.xlabel('Epoch')\n",
        "plt.ylabel('Loss')\n",
        "plt.title('Epoch vs Loss (Training and Testing)')\n",
        "plt.legend()\n",
        "plt.show()\n",
        "\n",
        "plt.plot(range(1, 301), test_loss_values, label=\"Testing Loss\", linestyle='--')\n",
        "\n",
        "# Labels and title\n",
        "plt.xlabel('Epoch')\n",
        "plt.ylabel('Loss')\n",
        "plt.title('Epoch vs Loss (Training and Testing)')\n",
        "plt.legend()\n",
        "plt.show()"
      ],
      "metadata": {
        "colab": {
          "base_uri": "https://localhost:8080/",
          "height": 1000
        },
        "id": "vZpbkkaRgSgV",
        "outputId": "2af0ea4a-a4c7-420a-f2a5-e105581673c3"
      },
      "execution_count": null,
      "outputs": [
        {
          "output_type": "stream",
          "name": "stdout",
          "text": [
            "Epoch 1, Train Loss: 0.6906452178955078, Test Loss: 0.6832184791564941\n",
            "Epoch 2, Train Loss: 0.6843026876449585, Test Loss: 0.6784898638725281\n",
            "Epoch 3, Train Loss: 0.6780584454536438, Test Loss: 0.6737760901451111\n",
            "Epoch 4, Train Loss: 0.6718761920928955, Test Loss: 0.6690570712089539\n",
            "Epoch 5, Train Loss: 0.6657361388206482, Test Loss: 0.6642788052558899\n",
            "Epoch 6, Train Loss: 0.6596026420593262, Test Loss: 0.6594280004501343\n",
            "Epoch 7, Train Loss: 0.6534448862075806, Test Loss: 0.6545107960700989\n",
            "Epoch 8, Train Loss: 0.6472330689430237, Test Loss: 0.6495189070701599\n",
            "Epoch 9, Train Loss: 0.6409255266189575, Test Loss: 0.6444010734558105\n",
            "Epoch 10, Train Loss: 0.6344920992851257, Test Loss: 0.6391100883483887\n",
            "Epoch 11, Train Loss: 0.6279004812240601, Test Loss: 0.6336225271224976\n",
            "Epoch 12, Train Loss: 0.6211441159248352, Test Loss: 0.6279352307319641\n",
            "Epoch 13, Train Loss: 0.6141846179962158, Test Loss: 0.6220146417617798\n",
            "Epoch 14, Train Loss: 0.6070128083229065, Test Loss: 0.6158576011657715\n",
            "Epoch 15, Train Loss: 0.5996221899986267, Test Loss: 0.6094728708267212\n",
            "Epoch 16, Train Loss: 0.5920037031173706, Test Loss: 0.6028726100921631\n",
            "Epoch 17, Train Loss: 0.5841770172119141, Test Loss: 0.596015453338623\n",
            "Epoch 18, Train Loss: 0.5761312246322632, Test Loss: 0.588939905166626\n",
            "Epoch 19, Train Loss: 0.567867636680603, Test Loss: 0.5816344618797302\n",
            "Epoch 20, Train Loss: 0.5593925714492798, Test Loss: 0.5741170644760132\n",
            "Epoch 21, Train Loss: 0.5506998300552368, Test Loss: 0.5664218068122864\n",
            "Epoch 22, Train Loss: 0.5417851209640503, Test Loss: 0.5585660338401794\n",
            "Epoch 23, Train Loss: 0.5326789617538452, Test Loss: 0.5505542159080505\n",
            "Epoch 24, Train Loss: 0.5233797430992126, Test Loss: 0.5424471497535706\n",
            "Epoch 25, Train Loss: 0.5139263272285461, Test Loss: 0.5341938734054565\n",
            "Epoch 26, Train Loss: 0.5043421387672424, Test Loss: 0.5258643627166748\n",
            "Epoch 27, Train Loss: 0.4946659803390503, Test Loss: 0.5175277590751648\n",
            "Epoch 28, Train Loss: 0.48492705821990967, Test Loss: 0.5091844201087952\n",
            "Epoch 29, Train Loss: 0.4751562774181366, Test Loss: 0.5008636713027954\n",
            "Epoch 30, Train Loss: 0.46538490056991577, Test Loss: 0.49263808131217957\n",
            "Epoch 31, Train Loss: 0.4556322991847992, Test Loss: 0.4845176935195923\n",
            "Epoch 32, Train Loss: 0.44593849778175354, Test Loss: 0.47656819224357605\n",
            "Epoch 33, Train Loss: 0.43635672330856323, Test Loss: 0.4687921106815338\n",
            "Epoch 34, Train Loss: 0.42691656947135925, Test Loss: 0.46121546626091003\n",
            "Epoch 35, Train Loss: 0.4176473617553711, Test Loss: 0.4538652002811432\n",
            "Epoch 36, Train Loss: 0.4085628390312195, Test Loss: 0.44676676392555237\n",
            "Epoch 37, Train Loss: 0.3996977210044861, Test Loss: 0.4399285614490509\n",
            "Epoch 38, Train Loss: 0.39108985662460327, Test Loss: 0.4333755075931549\n",
            "Epoch 39, Train Loss: 0.38275596499443054, Test Loss: 0.42711204290390015\n",
            "Epoch 40, Train Loss: 0.3747106194496155, Test Loss: 0.421132355928421\n",
            "Epoch 41, Train Loss: 0.36698341369628906, Test Loss: 0.4154835641384125\n",
            "Epoch 42, Train Loss: 0.35959240794181824, Test Loss: 0.4101826548576355\n",
            "Epoch 43, Train Loss: 0.3525540828704834, Test Loss: 0.40522652864456177\n",
            "Epoch 44, Train Loss: 0.34585464000701904, Test Loss: 0.4005778133869171\n",
            "Epoch 45, Train Loss: 0.33950504660606384, Test Loss: 0.39625298976898193\n",
            "Epoch 46, Train Loss: 0.3335084915161133, Test Loss: 0.39229798316955566\n",
            "Epoch 47, Train Loss: 0.3278549611568451, Test Loss: 0.38869616389274597\n",
            "Epoch 48, Train Loss: 0.32254350185394287, Test Loss: 0.38543784618377686\n",
            "Epoch 49, Train Loss: 0.31756260991096497, Test Loss: 0.3825095295906067\n",
            "Epoch 50, Train Loss: 0.3129047155380249, Test Loss: 0.37990933656692505\n",
            "Epoch 51, Train Loss: 0.3085539937019348, Test Loss: 0.37761160731315613\n",
            "Epoch 52, Train Loss: 0.3045015037059784, Test Loss: 0.37560003995895386\n",
            "Epoch 53, Train Loss: 0.3007168173789978, Test Loss: 0.3738684356212616\n",
            "Epoch 54, Train Loss: 0.2971811592578888, Test Loss: 0.37235042452812195\n",
            "Epoch 55, Train Loss: 0.2938781678676605, Test Loss: 0.37105792760849\n",
            "Epoch 56, Train Loss: 0.29077771306037903, Test Loss: 0.3699835538864136\n",
            "Epoch 57, Train Loss: 0.2878752052783966, Test Loss: 0.3691426217556\n",
            "Epoch 58, Train Loss: 0.28514161705970764, Test Loss: 0.3684689998626709\n",
            "Epoch 59, Train Loss: 0.2825603783130646, Test Loss: 0.3679499924182892\n",
            "Epoch 60, Train Loss: 0.2801224887371063, Test Loss: 0.3675777018070221\n",
            "Epoch 61, Train Loss: 0.2778000235557556, Test Loss: 0.3673376739025116\n",
            "Epoch 62, Train Loss: 0.27557849884033203, Test Loss: 0.36720168590545654\n",
            "Epoch 63, Train Loss: 0.27343592047691345, Test Loss: 0.3671264350414276\n",
            "Epoch 64, Train Loss: 0.27136191725730896, Test Loss: 0.3671073019504547\n",
            "Epoch 65, Train Loss: 0.26936623454093933, Test Loss: 0.3671458959579468\n",
            "Epoch 66, Train Loss: 0.2674254775047302, Test Loss: 0.3672197759151459\n",
            "Epoch 67, Train Loss: 0.26553305983543396, Test Loss: 0.36730262637138367\n",
            "Epoch 68, Train Loss: 0.26369065046310425, Test Loss: 0.36737769842147827\n",
            "Epoch 69, Train Loss: 0.26186978816986084, Test Loss: 0.36745724081993103\n",
            "Epoch 70, Train Loss: 0.26005738973617554, Test Loss: 0.3675305247306824\n",
            "Epoch 71, Train Loss: 0.25825557112693787, Test Loss: 0.3675965964794159\n",
            "Epoch 72, Train Loss: 0.25646519660949707, Test Loss: 0.36764487624168396\n",
            "Epoch 73, Train Loss: 0.25468766689300537, Test Loss: 0.3677002787590027\n",
            "Epoch 74, Train Loss: 0.2529446482658386, Test Loss: 0.3677580952644348\n",
            "Epoch 75, Train Loss: 0.25121867656707764, Test Loss: 0.36783209443092346\n",
            "Epoch 76, Train Loss: 0.2494959980249405, Test Loss: 0.36793121695518494\n",
            "Epoch 77, Train Loss: 0.24778836965560913, Test Loss: 0.3680509626865387\n",
            "Epoch 78, Train Loss: 0.24609525501728058, Test Loss: 0.3681628704071045\n",
            "Epoch 79, Train Loss: 0.24442186951637268, Test Loss: 0.3682594299316406\n",
            "Epoch 80, Train Loss: 0.24276989698410034, Test Loss: 0.368306040763855\n",
            "Epoch 81, Train Loss: 0.24113598465919495, Test Loss: 0.36831456422805786\n",
            "Epoch 82, Train Loss: 0.23951488733291626, Test Loss: 0.3683260679244995\n",
            "Epoch 83, Train Loss: 0.23789751529693604, Test Loss: 0.3683309257030487\n",
            "Epoch 84, Train Loss: 0.23629234731197357, Test Loss: 0.36832568049430847\n",
            "Epoch 85, Train Loss: 0.2346998006105423, Test Loss: 0.3683156669139862\n",
            "Epoch 86, Train Loss: 0.2331162393093109, Test Loss: 0.36831215023994446\n",
            "Epoch 87, Train Loss: 0.2315315455198288, Test Loss: 0.3683204650878906\n",
            "Epoch 88, Train Loss: 0.22994956374168396, Test Loss: 0.3683381974697113\n",
            "Epoch 89, Train Loss: 0.2283760905265808, Test Loss: 0.3683866858482361\n",
            "Epoch 90, Train Loss: 0.22681394219398499, Test Loss: 0.3684651553630829\n",
            "Epoch 91, Train Loss: 0.2252708375453949, Test Loss: 0.3685818612575531\n",
            "Epoch 92, Train Loss: 0.2237403839826584, Test Loss: 0.36871933937072754\n",
            "Epoch 93, Train Loss: 0.22222250699996948, Test Loss: 0.3688802421092987\n",
            "Epoch 94, Train Loss: 0.2207176238298416, Test Loss: 0.3691036105155945\n",
            "Epoch 95, Train Loss: 0.21921470761299133, Test Loss: 0.3693617880344391\n",
            "Epoch 96, Train Loss: 0.21769851446151733, Test Loss: 0.36965179443359375\n",
            "Epoch 97, Train Loss: 0.21619245409965515, Test Loss: 0.36998656392097473\n",
            "Epoch 98, Train Loss: 0.21469515562057495, Test Loss: 0.37033364176750183\n",
            "Epoch 99, Train Loss: 0.21319448947906494, Test Loss: 0.37070170044898987\n",
            "Epoch 100, Train Loss: 0.21168836951255798, Test Loss: 0.3711063265800476\n",
            "Epoch 101, Train Loss: 0.2101910263299942, Test Loss: 0.3715440034866333\n",
            "Epoch 102, Train Loss: 0.20868466794490814, Test Loss: 0.37201035022735596\n",
            "Epoch 103, Train Loss: 0.20717738568782806, Test Loss: 0.3725123703479767\n",
            "Epoch 104, Train Loss: 0.20566695928573608, Test Loss: 0.3730318546295166\n",
            "Epoch 105, Train Loss: 0.20415431261062622, Test Loss: 0.3736138641834259\n",
            "Epoch 106, Train Loss: 0.2026330828666687, Test Loss: 0.3742186725139618\n",
            "Epoch 107, Train Loss: 0.20112168788909912, Test Loss: 0.37486377358436584\n",
            "Epoch 108, Train Loss: 0.19961369037628174, Test Loss: 0.3755333721637726\n",
            "Epoch 109, Train Loss: 0.19811028242111206, Test Loss: 0.3762086033821106\n",
            "Epoch 110, Train Loss: 0.1966078132390976, Test Loss: 0.37688443064689636\n",
            "Epoch 111, Train Loss: 0.1951126903295517, Test Loss: 0.3775881826877594\n",
            "Epoch 112, Train Loss: 0.19362416863441467, Test Loss: 0.37832415103912354\n",
            "Epoch 113, Train Loss: 0.192134290933609, Test Loss: 0.3790820240974426\n",
            "Epoch 114, Train Loss: 0.1906459927558899, Test Loss: 0.37988290190696716\n",
            "Epoch 115, Train Loss: 0.1891556680202484, Test Loss: 0.38073426485061646\n",
            "Epoch 116, Train Loss: 0.18766231834888458, Test Loss: 0.38161545991897583\n",
            "Epoch 117, Train Loss: 0.18617157638072968, Test Loss: 0.3825443685054779\n",
            "Epoch 118, Train Loss: 0.18467697501182556, Test Loss: 0.3835233449935913\n",
            "Epoch 119, Train Loss: 0.18318624794483185, Test Loss: 0.38452818989753723\n",
            "Epoch 120, Train Loss: 0.18169613182544708, Test Loss: 0.3855364918708801\n",
            "Epoch 121, Train Loss: 0.18020281195640564, Test Loss: 0.3865754306316376\n",
            "Epoch 122, Train Loss: 0.17870517075061798, Test Loss: 0.38764268159866333\n",
            "Epoch 123, Train Loss: 0.1772189736366272, Test Loss: 0.38872936367988586\n",
            "Epoch 124, Train Loss: 0.1757292002439499, Test Loss: 0.3898545205593109\n",
            "Epoch 125, Train Loss: 0.17424261569976807, Test Loss: 0.3910030722618103\n",
            "Epoch 126, Train Loss: 0.17275433242321014, Test Loss: 0.3921613395214081\n",
            "Epoch 127, Train Loss: 0.171267569065094, Test Loss: 0.39329537749290466\n",
            "Epoch 128, Train Loss: 0.16977345943450928, Test Loss: 0.3944207429885864\n",
            "Epoch 129, Train Loss: 0.16827097535133362, Test Loss: 0.3955408036708832\n",
            "Epoch 130, Train Loss: 0.16678407788276672, Test Loss: 0.39668983221054077\n",
            "Epoch 131, Train Loss: 0.16528940200805664, Test Loss: 0.3978467285633087\n",
            "Epoch 132, Train Loss: 0.16379719972610474, Test Loss: 0.3990173041820526\n",
            "Epoch 133, Train Loss: 0.16230420768260956, Test Loss: 0.40018898248672485\n",
            "Epoch 134, Train Loss: 0.16081511974334717, Test Loss: 0.40139222145080566\n",
            "Epoch 135, Train Loss: 0.15932969748973846, Test Loss: 0.40264761447906494\n",
            "Epoch 136, Train Loss: 0.15784558653831482, Test Loss: 0.403950959444046\n",
            "Epoch 137, Train Loss: 0.15635713934898376, Test Loss: 0.40530627965927124\n",
            "Epoch 138, Train Loss: 0.1548789143562317, Test Loss: 0.4066694676876068\n",
            "Epoch 139, Train Loss: 0.1534111648797989, Test Loss: 0.4080367684364319\n",
            "Epoch 140, Train Loss: 0.15195351839065552, Test Loss: 0.40944477915763855\n",
            "Epoch 141, Train Loss: 0.15050828456878662, Test Loss: 0.41090524196624756\n",
            "Epoch 142, Train Loss: 0.1490599513053894, Test Loss: 0.412392258644104\n",
            "Epoch 143, Train Loss: 0.14761461317539215, Test Loss: 0.41386061906814575\n",
            "Epoch 144, Train Loss: 0.14617863297462463, Test Loss: 0.41534537076950073\n",
            "Epoch 145, Train Loss: 0.14474815130233765, Test Loss: 0.4168592095375061\n",
            "Epoch 146, Train Loss: 0.14333820343017578, Test Loss: 0.41836708784103394\n",
            "Epoch 147, Train Loss: 0.14193767309188843, Test Loss: 0.41986048221588135\n",
            "Epoch 148, Train Loss: 0.14053958654403687, Test Loss: 0.4213904142379761\n",
            "Epoch 149, Train Loss: 0.13915209472179413, Test Loss: 0.4229232370853424\n",
            "Epoch 150, Train Loss: 0.1377655565738678, Test Loss: 0.424530953168869\n",
            "Epoch 151, Train Loss: 0.1363799273967743, Test Loss: 0.42618244886398315\n",
            "Epoch 152, Train Loss: 0.13500620424747467, Test Loss: 0.42786335945129395\n",
            "Epoch 153, Train Loss: 0.13364076614379883, Test Loss: 0.42956411838531494\n",
            "Epoch 154, Train Loss: 0.132273331284523, Test Loss: 0.43126389384269714\n",
            "Epoch 155, Train Loss: 0.1309109926223755, Test Loss: 0.43299227952957153\n",
            "Epoch 156, Train Loss: 0.12956026196479797, Test Loss: 0.43475326895713806\n",
            "Epoch 157, Train Loss: 0.12820984423160553, Test Loss: 0.4365648031234741\n",
            "Epoch 158, Train Loss: 0.12686580419540405, Test Loss: 0.4384138584136963\n",
            "Epoch 159, Train Loss: 0.12552410364151, Test Loss: 0.44032806158065796\n",
            "Epoch 160, Train Loss: 0.12418284267187119, Test Loss: 0.4422535002231598\n",
            "Epoch 161, Train Loss: 0.12284829467535019, Test Loss: 0.44420188665390015\n",
            "Epoch 162, Train Loss: 0.1215265765786171, Test Loss: 0.4461499750614166\n",
            "Epoch 163, Train Loss: 0.12021251767873764, Test Loss: 0.4481225907802582\n",
            "Epoch 164, Train Loss: 0.11891364306211472, Test Loss: 0.45007309317588806\n",
            "Epoch 165, Train Loss: 0.11762389540672302, Test Loss: 0.4519771337509155\n",
            "Epoch 166, Train Loss: 0.11633817851543427, Test Loss: 0.45382317900657654\n",
            "Epoch 167, Train Loss: 0.11506042629480362, Test Loss: 0.4556722640991211\n",
            "Epoch 168, Train Loss: 0.11378747969865799, Test Loss: 0.45749732851982117\n",
            "Epoch 169, Train Loss: 0.11251695454120636, Test Loss: 0.45932814478874207\n",
            "Epoch 170, Train Loss: 0.11125259101390839, Test Loss: 0.46116623282432556\n",
            "Epoch 171, Train Loss: 0.10999511927366257, Test Loss: 0.46300697326660156\n",
            "Epoch 172, Train Loss: 0.10873986035585403, Test Loss: 0.46486109495162964\n",
            "Epoch 173, Train Loss: 0.10748447477817535, Test Loss: 0.46679142117500305\n",
            "Epoch 174, Train Loss: 0.10622960329055786, Test Loss: 0.46875160932540894\n",
            "Epoch 175, Train Loss: 0.10497679561376572, Test Loss: 0.47076866030693054\n",
            "Epoch 176, Train Loss: 0.10373149812221527, Test Loss: 0.4728166460990906\n",
            "Epoch 177, Train Loss: 0.10248912870883942, Test Loss: 0.4748869240283966\n",
            "Epoch 178, Train Loss: 0.10125210136175156, Test Loss: 0.47694411873817444\n",
            "Epoch 179, Train Loss: 0.10002125799655914, Test Loss: 0.47905734181404114\n",
            "Epoch 180, Train Loss: 0.09878656268119812, Test Loss: 0.48121315240859985\n",
            "Epoch 181, Train Loss: 0.09755737334489822, Test Loss: 0.48343798518180847\n",
            "Epoch 182, Train Loss: 0.09635832160711288, Test Loss: 0.48575130105018616\n",
            "Epoch 183, Train Loss: 0.09516467154026031, Test Loss: 0.48806798458099365\n",
            "Epoch 184, Train Loss: 0.09397390484809875, Test Loss: 0.490398108959198\n",
            "Epoch 185, Train Loss: 0.09279448539018631, Test Loss: 0.4927929639816284\n",
            "Epoch 186, Train Loss: 0.09161621332168579, Test Loss: 0.4951917231082916\n",
            "Epoch 187, Train Loss: 0.0904485285282135, Test Loss: 0.497618168592453\n",
            "Epoch 188, Train Loss: 0.08929037302732468, Test Loss: 0.5000722408294678\n",
            "Epoch 189, Train Loss: 0.08813858777284622, Test Loss: 0.5026145577430725\n",
            "Epoch 190, Train Loss: 0.08699649572372437, Test Loss: 0.5052364468574524\n",
            "Epoch 191, Train Loss: 0.08587152510881424, Test Loss: 0.5079355239868164\n",
            "Epoch 192, Train Loss: 0.08475174009799957, Test Loss: 0.5106952786445618\n",
            "Epoch 193, Train Loss: 0.08363029360771179, Test Loss: 0.5134952068328857\n",
            "Epoch 194, Train Loss: 0.08252392709255219, Test Loss: 0.5163559913635254\n",
            "Epoch 195, Train Loss: 0.08143271505832672, Test Loss: 0.5192543268203735\n",
            "Epoch 196, Train Loss: 0.0803476870059967, Test Loss: 0.5221770405769348\n",
            "Epoch 197, Train Loss: 0.07926918566226959, Test Loss: 0.5251064896583557\n",
            "Epoch 198, Train Loss: 0.07820039987564087, Test Loss: 0.52803635597229\n",
            "Epoch 199, Train Loss: 0.07714064419269562, Test Loss: 0.531000554561615\n",
            "Epoch 200, Train Loss: 0.07610377669334412, Test Loss: 0.5340189933776855\n",
            "Epoch 201, Train Loss: 0.07507716119289398, Test Loss: 0.5370562076568604\n",
            "Epoch 202, Train Loss: 0.07405263185501099, Test Loss: 0.5400877594947815\n",
            "Epoch 203, Train Loss: 0.07303502410650253, Test Loss: 0.5430493354797363\n",
            "Epoch 204, Train Loss: 0.07203210890293121, Test Loss: 0.5459702610969543\n",
            "Epoch 205, Train Loss: 0.07105160504579544, Test Loss: 0.5488741397857666\n",
            "Epoch 206, Train Loss: 0.07007087022066116, Test Loss: 0.551825761795044\n",
            "Epoch 207, Train Loss: 0.06910311430692673, Test Loss: 0.554705798625946\n",
            "Epoch 208, Train Loss: 0.06814492493867874, Test Loss: 0.5575187802314758\n",
            "Epoch 209, Train Loss: 0.06719799339771271, Test Loss: 0.560332179069519\n",
            "Epoch 210, Train Loss: 0.06626176089048386, Test Loss: 0.5632286667823792\n",
            "Epoch 211, Train Loss: 0.06532879173755646, Test Loss: 0.5662796497344971\n",
            "Epoch 212, Train Loss: 0.06440369039773941, Test Loss: 0.569352388381958\n",
            "Epoch 213, Train Loss: 0.0634952262043953, Test Loss: 0.5724254250526428\n",
            "Epoch 214, Train Loss: 0.06259716302156448, Test Loss: 0.5754443407058716\n",
            "Epoch 215, Train Loss: 0.06170620024204254, Test Loss: 0.578472375869751\n",
            "Epoch 216, Train Loss: 0.060824088752269745, Test Loss: 0.5814785957336426\n",
            "Epoch 217, Train Loss: 0.059954188764095306, Test Loss: 0.5845344066619873\n",
            "Epoch 218, Train Loss: 0.0590948686003685, Test Loss: 0.5876148343086243\n",
            "Epoch 219, Train Loss: 0.05824417248368263, Test Loss: 0.590640127658844\n",
            "Epoch 220, Train Loss: 0.0573977455496788, Test Loss: 0.5936012864112854\n",
            "Epoch 221, Train Loss: 0.056570202112197876, Test Loss: 0.5965752005577087\n",
            "Epoch 222, Train Loss: 0.05575701221823692, Test Loss: 0.5995351672172546\n",
            "Epoch 223, Train Loss: 0.05494574084877968, Test Loss: 0.6025068163871765\n",
            "Epoch 224, Train Loss: 0.0541435144841671, Test Loss: 0.6054745316505432\n",
            "Epoch 225, Train Loss: 0.053341932594776154, Test Loss: 0.608461320400238\n",
            "Epoch 226, Train Loss: 0.05255008116364479, Test Loss: 0.6115107536315918\n",
            "Epoch 227, Train Loss: 0.05177486315369606, Test Loss: 0.6145650744438171\n",
            "Epoch 228, Train Loss: 0.051010552793741226, Test Loss: 0.6176292896270752\n",
            "Epoch 229, Train Loss: 0.05025621876120567, Test Loss: 0.6207119822502136\n",
            "Epoch 230, Train Loss: 0.04950390383601189, Test Loss: 0.6237740516662598\n",
            "Epoch 231, Train Loss: 0.04875825718045235, Test Loss: 0.6267487406730652\n",
            "Epoch 232, Train Loss: 0.04802285134792328, Test Loss: 0.6296489834785461\n",
            "Epoch 233, Train Loss: 0.047296807169914246, Test Loss: 0.6326357126235962\n",
            "Epoch 234, Train Loss: 0.04658835753798485, Test Loss: 0.6356505155563354\n",
            "Epoch 235, Train Loss: 0.04588363692164421, Test Loss: 0.6387558579444885\n",
            "Epoch 236, Train Loss: 0.045188695192337036, Test Loss: 0.641866147518158\n",
            "Epoch 237, Train Loss: 0.044509731233119965, Test Loss: 0.6449596881866455\n",
            "Epoch 238, Train Loss: 0.04383988305926323, Test Loss: 0.6480655074119568\n",
            "Epoch 239, Train Loss: 0.04317450150847435, Test Loss: 0.6512101888656616\n",
            "Epoch 240, Train Loss: 0.042510028928518295, Test Loss: 0.6543828845024109\n",
            "Epoch 241, Train Loss: 0.04185595363378525, Test Loss: 0.6575536131858826\n",
            "Epoch 242, Train Loss: 0.04121069982647896, Test Loss: 0.6607164740562439\n",
            "Epoch 243, Train Loss: 0.040587276220321655, Test Loss: 0.6638511419296265\n",
            "Epoch 244, Train Loss: 0.03997232764959335, Test Loss: 0.6669964790344238\n",
            "Epoch 245, Train Loss: 0.0393635518848896, Test Loss: 0.670142650604248\n",
            "Epoch 246, Train Loss: 0.03876202553510666, Test Loss: 0.6733946204185486\n",
            "Epoch 247, Train Loss: 0.038167957216501236, Test Loss: 0.6766834855079651\n",
            "Epoch 248, Train Loss: 0.03757774457335472, Test Loss: 0.6800299882888794\n",
            "Epoch 249, Train Loss: 0.036993831396102905, Test Loss: 0.6833539009094238\n",
            "Epoch 250, Train Loss: 0.036418210715055466, Test Loss: 0.686615526676178\n",
            "Epoch 251, Train Loss: 0.035846833139657974, Test Loss: 0.6897920370101929\n",
            "Epoch 252, Train Loss: 0.035289060324430466, Test Loss: 0.6929426789283752\n",
            "Epoch 253, Train Loss: 0.03473832085728645, Test Loss: 0.696168839931488\n",
            "Epoch 254, Train Loss: 0.034193288534879684, Test Loss: 0.6993547677993774\n",
            "Epoch 255, Train Loss: 0.03365856409072876, Test Loss: 0.7025432586669922\n",
            "Epoch 256, Train Loss: 0.03312886878848076, Test Loss: 0.7057797908782959\n",
            "Epoch 257, Train Loss: 0.03261274844408035, Test Loss: 0.7090809345245361\n",
            "Epoch 258, Train Loss: 0.032103732228279114, Test Loss: 0.7123947143554688\n",
            "Epoch 259, Train Loss: 0.03159990534186363, Test Loss: 0.715684175491333\n",
            "Epoch 260, Train Loss: 0.031109537929296494, Test Loss: 0.7188301682472229\n",
            "Epoch 261, Train Loss: 0.030624931678175926, Test Loss: 0.7218581438064575\n",
            "Epoch 262, Train Loss: 0.03014606423676014, Test Loss: 0.7247977256774902\n",
            "Epoch 263, Train Loss: 0.0296757984906435, Test Loss: 0.7277859449386597\n",
            "Epoch 264, Train Loss: 0.029213162139058113, Test Loss: 0.7308564186096191\n",
            "Epoch 265, Train Loss: 0.028757566586136818, Test Loss: 0.7338972687721252\n",
            "Epoch 266, Train Loss: 0.028307082131505013, Test Loss: 0.7369492053985596\n",
            "Epoch 267, Train Loss: 0.02786031737923622, Test Loss: 0.7400095462799072\n",
            "Epoch 268, Train Loss: 0.02741999179124832, Test Loss: 0.7430544495582581\n",
            "Epoch 269, Train Loss: 0.02699003927409649, Test Loss: 0.7461667656898499\n",
            "Epoch 270, Train Loss: 0.026567384600639343, Test Loss: 0.7494113445281982\n",
            "Epoch 271, Train Loss: 0.026153404265642166, Test Loss: 0.752687394618988\n",
            "Epoch 272, Train Loss: 0.025741830468177795, Test Loss: 0.7559637427330017\n",
            "Epoch 273, Train Loss: 0.025339461863040924, Test Loss: 0.7591893076896667\n",
            "Epoch 274, Train Loss: 0.024946672841906548, Test Loss: 0.7623740434646606\n",
            "Epoch 275, Train Loss: 0.02456020377576351, Test Loss: 0.7655860185623169\n",
            "Epoch 276, Train Loss: 0.024180443957448006, Test Loss: 0.7688189148902893\n",
            "Epoch 277, Train Loss: 0.023805959150195122, Test Loss: 0.7720935344696045\n",
            "Epoch 278, Train Loss: 0.023441290482878685, Test Loss: 0.7753616571426392\n",
            "Epoch 279, Train Loss: 0.02308213710784912, Test Loss: 0.7785672545433044\n",
            "Epoch 280, Train Loss: 0.022721832618117332, Test Loss: 0.7817291021347046\n",
            "Epoch 281, Train Loss: 0.022369632497429848, Test Loss: 0.7848803997039795\n",
            "Epoch 282, Train Loss: 0.022033195942640305, Test Loss: 0.7879444360733032\n",
            "Epoch 283, Train Loss: 0.021699676290154457, Test Loss: 0.790965735912323\n",
            "Epoch 284, Train Loss: 0.021368468180298805, Test Loss: 0.7940066456794739\n",
            "Epoch 285, Train Loss: 0.021040448918938637, Test Loss: 0.7970295548439026\n",
            "Epoch 286, Train Loss: 0.020719904452562332, Test Loss: 0.7999170422554016\n",
            "Epoch 287, Train Loss: 0.020403634756803513, Test Loss: 0.8027681112289429\n",
            "Epoch 288, Train Loss: 0.020093711093068123, Test Loss: 0.8055778741836548\n",
            "Epoch 289, Train Loss: 0.01978977397084236, Test Loss: 0.8084100484848022\n",
            "Epoch 290, Train Loss: 0.019490813836455345, Test Loss: 0.8112718462944031\n",
            "Epoch 291, Train Loss: 0.019198058173060417, Test Loss: 0.8141307234764099\n",
            "Epoch 292, Train Loss: 0.01891014724969864, Test Loss: 0.816976010799408\n",
            "Epoch 293, Train Loss: 0.018630336970090866, Test Loss: 0.8197290301322937\n",
            "Epoch 294, Train Loss: 0.018357856199145317, Test Loss: 0.8224714398384094\n",
            "Epoch 295, Train Loss: 0.01808757707476616, Test Loss: 0.8252819776535034\n",
            "Epoch 296, Train Loss: 0.017821606248617172, Test Loss: 0.8280922174453735\n",
            "Epoch 297, Train Loss: 0.017561111599206924, Test Loss: 0.8309699296951294\n",
            "Epoch 298, Train Loss: 0.01730518974363804, Test Loss: 0.8337908983230591\n",
            "Epoch 299, Train Loss: 0.017052166163921356, Test Loss: 0.8366045951843262\n",
            "Epoch 300, Train Loss: 0.016805313527584076, Test Loss: 0.8394119143486023\n"
          ]
        },
        {
          "output_type": "display_data",
          "data": {
            "text/plain": [
              "<Figure size 640x480 with 1 Axes>"
            ],
            "image/png": "[encoded data removed]"
          },
          "metadata": {}
        },
        {
          "output_type": "display_data",
          "data": {
            "text/plain": [
              "<Figure size 640x480 with 1 Axes>"
            ],
            "image/png": "[encoded data removed]"
          },
          "metadata": {}
        }
      ]
    },
    {
      "cell_type": "code",
      "source": [
        "with torch.no_grad():\n",
        "    y_pred_test=model(X_test)\n",
        "    y_pred_label=y_pred_test.round()\n",
        "    accuracy=(y_pred_label.eq(y_test).sum()/ y_test.shape[0]).item()\n",
        "    print(f\"Test Accuracy :{accuracy*100:.2f}%\")"
      ],
      "metadata": {
        "colab": {
          "base_uri": "https://localhost:8080/"
        },
        "id": "rQEVcUGygcT2",
        "outputId": "cb9aaf1c-f664-4699-b854-df9d64b5ca08"
      },
      "execution_count": null,
      "outputs": [
        {
          "output_type": "stream",
          "name": "stdout",
          "text": [
            "Test Accuracy :81.50%\n"
          ]
        }
      ]
    }
  ]
}