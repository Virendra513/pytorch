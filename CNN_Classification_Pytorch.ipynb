{
  "nbformat": 4,
  "nbformat_minor": 0,
  "metadata": {
    "colab": {
      "provenance": [],
      "gpuType": "T4",
      "authorship_tag": "ABX9TyNOmrn71osQChz7Ba3iaSlm"
    },
    "kernelspec": {
      "name": "python3",
      "display_name": "Python 3"
    },
    "language_info": {
      "name": "python"
    },
    "accelerator": "GPU"
  },
  "cells": [
    {
      "cell_type": "markdown",
      "source": [
        "# Convolutional Neural Network for Image Classification\n"
      ],
      "metadata": {
        "id": "MGH83_ptTiXz"
      }
    },
    {
      "cell_type": "code",
      "source": [
        "# Import libraries\n",
        "import torch\n",
        "import torch.nn as nn\n",
        "import torch.optim as optim\n",
        "import torchvision\n",
        "import torchvision.transforms as transforms\n",
        "from torch.utils.data import DataLoader\n",
        "import matplotlib.pyplot as plt\n",
        "import numpy as np"
      ],
      "metadata": {
        "id": "cLyNLWQpTmdI"
      },
      "execution_count": 1,
      "outputs": []
    },
    {
      "cell_type": "code",
      "source": [
        "class SimpleCNN(nn.Module):\n",
        "    def __init__(self):\n",
        "        super(SimpleCNN, self).__init__()\n",
        "        self.conv1 = nn.Conv2d(1, 32, kernel_size=3, padding=1)\n",
        "        self.conv2 = nn.Conv2d(32, 64, kernel_size=3, padding=1)\n",
        "        self.fc1 = nn.Linear(64*7*7, 128)\n",
        "        self.fc2 = nn.Linear(128, 10)\n",
        "        self.relu = nn.ReLU()\n",
        "        self.maxpool = nn.MaxPool2d(kernel_size=2, stride=2)\n",
        "        self.dropout = nn.Dropout(0.5)\n",
        "\n",
        "    def forward(self, x):\n",
        "        x = self.relu(self.conv1(x))\n",
        "        x = self.maxpool(x)\n",
        "        x = self.relu(self.conv2(x))\n",
        "        x = self.maxpool(x)\n",
        "        x = x.view(-1, 64*7*7)\n",
        "        x = self.relu(self.fc1(x))\n",
        "        x = self.dropout(x)\n",
        "        x = self.fc2(x)\n",
        "        return x"
      ],
      "metadata": {
        "id": "lQe3_tSWTqJJ"
      },
      "execution_count": 2,
      "outputs": []
    },
    {
      "cell_type": "code",
      "source": [
        "# Prepare the dataset and data loader\n",
        "transform=transforms.Compose([transforms.ToTensor(), transforms.Normalize((0.5),(0.5))])\n",
        "train_dataset = torchvision.datasets.MNIST(root='./data', train=True, transform=transform, download=True)\n",
        "train_loader = DataLoader(train_dataset, batch_size=64, shuffle=True)\n"
      ],
      "metadata": {
        "colab": {
          "base_uri": "https://localhost:8080/"
        },
        "id": "4888CFmoT228",
        "outputId": "d5acd68f-5bb4-4ac0-f0e9-bce2943af17e"
      },
      "execution_count": 3,
      "outputs": [
        {
          "output_type": "stream",
          "name": "stdout",
          "text": [
            "Downloading http://yann.lecun.com/exdb/mnist/train-images-idx3-ubyte.gz\n",
            "Failed to download (trying next):\n",
            "HTTP Error 403: Forbidden\n",
            "\n",
            "Downloading https://ossci-datasets.s3.amazonaws.com/mnist/train-images-idx3-ubyte.gz\n",
            "Downloading https://ossci-datasets.s3.amazonaws.com/mnist/train-images-idx3-ubyte.gz to ./data/MNIST/raw/train-images-idx3-ubyte.gz\n"
          ]
        },
        {
          "output_type": "stream",
          "name": "stderr",
          "text": [
            "100%|██████████| 9912422/9912422 [00:11<00:00, 890748.94it/s] \n"
          ]
        },
        {
          "output_type": "stream",
          "name": "stdout",
          "text": [
            "Extracting ./data/MNIST/raw/train-images-idx3-ubyte.gz to ./data/MNIST/raw\n",
            "\n",
            "Downloading http://yann.lecun.com/exdb/mnist/train-labels-idx1-ubyte.gz\n",
            "Failed to download (trying next):\n",
            "HTTP Error 403: Forbidden\n",
            "\n",
            "Downloading https://ossci-datasets.s3.amazonaws.com/mnist/train-labels-idx1-ubyte.gz\n",
            "Downloading https://ossci-datasets.s3.amazonaws.com/mnist/train-labels-idx1-ubyte.gz to ./data/MNIST/raw/train-labels-idx1-ubyte.gz\n"
          ]
        },
        {
          "output_type": "stream",
          "name": "stderr",
          "text": [
            "100%|██████████| 28881/28881 [00:00<00:00, 57338.97it/s]\n"
          ]
        },
        {
          "output_type": "stream",
          "name": "stdout",
          "text": [
            "Extracting ./data/MNIST/raw/train-labels-idx1-ubyte.gz to ./data/MNIST/raw\n",
            "\n",
            "Downloading http://yann.lecun.com/exdb/mnist/t10k-images-idx3-ubyte.gz\n",
            "Failed to download (trying next):\n",
            "HTTP Error 403: Forbidden\n",
            "\n",
            "Downloading https://ossci-datasets.s3.amazonaws.com/mnist/t10k-images-idx3-ubyte.gz\n",
            "Downloading https://ossci-datasets.s3.amazonaws.com/mnist/t10k-images-idx3-ubyte.gz to ./data/MNIST/raw/t10k-images-idx3-ubyte.gz\n"
          ]
        },
        {
          "output_type": "stream",
          "name": "stderr",
          "text": [
            "100%|██████████| 1648877/1648877 [00:01<00:00, 1246908.62it/s]\n"
          ]
        },
        {
          "output_type": "stream",
          "name": "stdout",
          "text": [
            "Extracting ./data/MNIST/raw/t10k-images-idx3-ubyte.gz to ./data/MNIST/raw\n",
            "\n",
            "Downloading http://yann.lecun.com/exdb/mnist/t10k-labels-idx1-ubyte.gz\n",
            "Failed to download (trying next):\n",
            "HTTP Error 403: Forbidden\n",
            "\n",
            "Downloading https://ossci-datasets.s3.amazonaws.com/mnist/t10k-labels-idx1-ubyte.gz\n",
            "Downloading https://ossci-datasets.s3.amazonaws.com/mnist/t10k-labels-idx1-ubyte.gz to ./data/MNIST/raw/t10k-labels-idx1-ubyte.gz\n"
          ]
        },
        {
          "output_type": "stream",
          "name": "stderr",
          "text": [
            "100%|██████████| 4542/4542 [00:00<00:00, 3263753.43it/s]"
          ]
        },
        {
          "output_type": "stream",
          "name": "stdout",
          "text": [
            "Extracting ./data/MNIST/raw/t10k-labels-idx1-ubyte.gz to ./data/MNIST/raw\n",
            "\n"
          ]
        },
        {
          "output_type": "stream",
          "name": "stderr",
          "text": [
            "\n"
          ]
        }
      ]
    },
    {
      "cell_type": "code",
      "source": [
        "test_dataset = torchvision.datasets.MNIST(root='./data', train=False, transform=transform, download=True)\n",
        "test_loader = DataLoader(test_dataset, batch_size=64, shuffle=False)"
      ],
      "metadata": {
        "id": "OU9bX1jJUDrs"
      },
      "execution_count": 4,
      "outputs": []
    },
    {
      "cell_type": "code",
      "source": [
        "# Instantiate the model, define loss and optimizer\n",
        "model = SimpleCNN()\n",
        "criterion = nn.CrossEntropyLoss()\n",
        "optimizer = optim.Adam(model.parameters(), lr=0.001)"
      ],
      "metadata": {
        "id": "KNxNJve8UJEk"
      },
      "execution_count": 5,
      "outputs": []
    },
    {
      "source": [
        "# Check if gpu is available\n",
        "import torch\n",
        "\n",
        "if torch.cuda.is_available():\n",
        "  print(torch.cuda.get_device_name(0)) # Use torch.cuda to call device_name()"
      ],
      "cell_type": "code",
      "metadata": {
        "colab": {
          "base_uri": "https://localhost:8080/"
        },
        "id": "5INwvFqwXZlG",
        "outputId": "d16637b1-9630-47e3-c380-e4d60cdeb905"
      },
      "execution_count": 16,
      "outputs": [
        {
          "output_type": "stream",
          "name": "stdout",
          "text": [
            "Tesla T4\n"
          ]
        }
      ]
    },
    {
      "cell_type": "code",
      "source": [
        "# Train the model for 5 epochs\n",
        "import time\n",
        "current_time=time.time()\n",
        "for epoch in range(5):\n",
        "    for batch_idx, (data, target) in enumerate(train_loader):\n",
        "        # Forward pass\n",
        "        output=model(data)\n",
        "\n",
        "        # Compute loss\n",
        "        loss=criterion(output, target)\n",
        "\n",
        "        # Backward pass and optimize\n",
        "        optimizer.zero_grad()\n",
        "        loss.backward()\n",
        "        optimizer.step()\n",
        "\n",
        "        if batch_idx % 100==0:\n",
        "            print(f\"Epoch {epoch+1}; Batch {batch_idx+1}; Loss:{loss.item()}\")\n",
        "trainning_time=time.time()-current_time"
      ],
      "metadata": {
        "colab": {
          "base_uri": "https://localhost:8080/"
        },
        "id": "JDpq6re_UN_S",
        "outputId": "6e062c46-a2e9-4f7e-9a11-cb5403722db0"
      },
      "execution_count": 24,
      "outputs": [
        {
          "output_type": "stream",
          "name": "stdout",
          "text": [
            "Epoch 1; Batch 1; Loss:0.003212185576558113\n",
            "Epoch 1; Batch 101; Loss:0.0028084537480026484\n",
            "Epoch 1; Batch 201; Loss:0.00029604966402985156\n",
            "Epoch 1; Batch 301; Loss:0.01290691178292036\n",
            "Epoch 1; Batch 401; Loss:0.001481199054978788\n",
            "Epoch 1; Batch 501; Loss:0.00013274812954477966\n",
            "Epoch 1; Batch 601; Loss:2.4293465685332194e-05\n",
            "Epoch 1; Batch 701; Loss:0.0006288426811806858\n",
            "Epoch 1; Batch 801; Loss:0.019965915009379387\n",
            "Epoch 1; Batch 901; Loss:0.002399831311777234\n",
            "Epoch 2; Batch 1; Loss:0.0008539435802958906\n",
            "Epoch 2; Batch 101; Loss:0.007580556441098452\n",
            "Epoch 2; Batch 201; Loss:0.0002190614613937214\n",
            "Epoch 2; Batch 301; Loss:1.6018467476897058e-06\n",
            "Epoch 2; Batch 401; Loss:0.001445597386918962\n",
            "Epoch 2; Batch 501; Loss:0.00012882174632977694\n",
            "Epoch 2; Batch 601; Loss:0.0005379394278861582\n",
            "Epoch 2; Batch 701; Loss:0.008738911710679531\n",
            "Epoch 2; Batch 801; Loss:0.0009064828045666218\n",
            "Epoch 2; Batch 901; Loss:0.015318986028432846\n",
            "Epoch 3; Batch 1; Loss:0.018635647371411324\n",
            "Epoch 3; Batch 101; Loss:0.0001990498712984845\n",
            "Epoch 3; Batch 201; Loss:9.137060260400176e-05\n",
            "Epoch 3; Batch 301; Loss:0.00017144958837889135\n",
            "Epoch 3; Batch 401; Loss:0.04446950927376747\n",
            "Epoch 3; Batch 501; Loss:0.004057943820953369\n",
            "Epoch 3; Batch 601; Loss:0.012445319443941116\n",
            "Epoch 3; Batch 701; Loss:1.129219072026899e-05\n",
            "Epoch 3; Batch 801; Loss:5.658167719957419e-05\n",
            "Epoch 3; Batch 901; Loss:3.654385864138021e-06\n",
            "Epoch 4; Batch 1; Loss:0.051120348274707794\n",
            "Epoch 4; Batch 101; Loss:0.004815170541405678\n",
            "Epoch 4; Batch 201; Loss:0.00032345898216590285\n",
            "Epoch 4; Batch 301; Loss:0.00012322058319114149\n",
            "Epoch 4; Batch 401; Loss:0.0028566038236021996\n",
            "Epoch 4; Batch 501; Loss:4.867356619797647e-05\n",
            "Epoch 4; Batch 601; Loss:0.00024964808835648\n",
            "Epoch 4; Batch 701; Loss:0.04364558681845665\n",
            "Epoch 4; Batch 801; Loss:0.0007219592807814479\n",
            "Epoch 4; Batch 901; Loss:0.00023596256505697966\n",
            "Epoch 5; Batch 1; Loss:5.967521246930119e-06\n",
            "Epoch 5; Batch 101; Loss:0.0003849490894936025\n",
            "Epoch 5; Batch 201; Loss:0.0023554356303066015\n",
            "Epoch 5; Batch 301; Loss:4.905176683678292e-05\n",
            "Epoch 5; Batch 401; Loss:0.000782167655415833\n",
            "Epoch 5; Batch 501; Loss:0.059999410063028336\n",
            "Epoch 5; Batch 601; Loss:0.01066539715975523\n",
            "Epoch 5; Batch 701; Loss:0.00025100342463701963\n",
            "Epoch 5; Batch 801; Loss:0.001785198226571083\n",
            "Epoch 5; Batch 901; Loss:0.00020912347827106714\n"
          ]
        }
      ]
    },
    {
      "cell_type": "code",
      "source": [
        "print(f\"Training time (second): {trainning_time}\")"
      ],
      "metadata": {
        "colab": {
          "base_uri": "https://localhost:8080/"
        },
        "id": "MB5w6ew7WSZw",
        "outputId": "a35685ca-ea2a-48e8-f0c3-78b9449e0b35"
      },
      "execution_count": 25,
      "outputs": [
        {
          "output_type": "stream",
          "name": "stdout",
          "text": [
            "Training time (second): 392.07121753692627\n"
          ]
        }
      ]
    },
    {
      "cell_type": "code",
      "source": [
        "def show_images(images, labels, predictions=None):\n",
        "    images = images.numpy()\n",
        "    fig, axes = plt.subplots(1, len(images), figsize=(12, 12))\n",
        "    for i, ax in enumerate(axes):\n",
        "        ax.imshow(np.squeeze(images[i]), cmap=\"gray\")\n",
        "        label = labels[i].item()\n",
        "        title = f\"Label: {label}\"\n",
        "        if predictions is not None:\n",
        "            pred = predictions[i].item()\n",
        "            title += f\", Pred: {pred}\"\n",
        "        ax.set_title(title)\n",
        "        ax.axis(\"off\")\n",
        "    plt.show()"
      ],
      "metadata": {
        "id": "YqHDBUJdUZPI"
      },
      "execution_count": 20,
      "outputs": []
    },
    {
      "cell_type": "code",
      "source": [
        "# View some test images with actual labels\n",
        "data_iter = iter(test_loader)\n",
        "images, labels = next(data_iter)\n",
        "\n",
        "print(\"Displaying a batch of test images with actual labels:\")\n",
        "show_images(images[7:12], labels[7:12])"
      ],
      "metadata": {
        "colab": {
          "base_uri": "https://localhost:8080/",
          "height": 236
        },
        "id": "T4YyrwJFU9L1",
        "outputId": "ff21631d-cb1e-4b69-8dda-13dde4d2489d"
      },
      "execution_count": 21,
      "outputs": [
        {
          "output_type": "stream",
          "name": "stdout",
          "text": [
            "Displaying a batch of test images with actual labels:\n"
          ]
        },
        {
          "output_type": "display_data",
          "data": {
            "text/plain": [
              "<Figure size 1200x1200 with 5 Axes>"
            ],
            "image/png": "[encoded data removed]"
          },
          "metadata": {}
        }
      ]
    },
    {
      "cell_type": "code",
      "source": [
        "# Make predictions on test data\n",
        "model.eval()  # Set model to evaluation mode\n",
        "with torch.no_grad():  # Disable gradient calculation for inference\n",
        "    output = model(images)\n",
        "    _, predictions = torch.max(output, 1)  # Get the index of the max log-probability\n",
        "\n",
        "print(\"Displaying the same images with predicted labels:\")\n",
        "show_images(images[7:12], labels[7:12], predictions[7:12])"
      ],
      "metadata": {
        "colab": {
          "base_uri": "https://localhost:8080/",
          "height": 236
        },
        "id": "VdYyGxAKVN_I",
        "outputId": "cd51bca9-d5e5-4781-e685-12696b63cbd8"
      },
      "execution_count": 22,
      "outputs": [
        {
          "output_type": "stream",
          "name": "stdout",
          "text": [
            "Displaying the same images with predicted labels:\n"
          ]
        },
        {
          "output_type": "display_data",
          "data": {
            "text/plain": [
              "<Figure size 1200x1200 with 5 Axes>"
            ],
            "image/png": "[encoded data removed]"
          },
          "metadata": {}
        }
      ]
    },
    {
      "cell_type": "code",
      "source": [
        "from sklearn.metrics import confusion_matrix, classification_report, accuracy_score\n",
        "import seaborn as sns\n",
        "# Function to evaluate the model on the test set and generate classification metrics\n",
        "def evaluate_model(model, test_loader):\n",
        "    model.eval()  # Set the model to evaluation mode\n",
        "    all_preds = []\n",
        "    all_labels = []\n",
        "\n",
        "    with torch.no_grad():\n",
        "        for data, target in test_loader:\n",
        "            output = model(data)\n",
        "            _, preds = torch.max(output, 1)\n",
        "            all_preds.extend(preds.cpu().numpy())\n",
        "            all_labels.extend(target.cpu().numpy())\n",
        "\n",
        "    # Calculate classification metrics\n",
        "    cm = confusion_matrix(all_labels, all_preds)\n",
        "    accuracy = accuracy_score(all_labels, all_preds)\n",
        "    report = classification_report(all_labels, all_preds, digits=4)\n",
        "\n",
        "    print(f\"Accuracy: {accuracy:.4f}\")\n",
        "    print(\"\\nClassification Report:\\n\", report)\n",
        "\n",
        "    # Plot confusion matrix\n",
        "    plt.figure(figsize=(10, 8))\n",
        "    sns.heatmap(cm, annot=True, fmt=\"d\", cmap=\"Blues\", xticklabels=range(10), yticklabels=range(10))\n",
        "    plt.xlabel(\"Predicted Label\")\n",
        "    plt.ylabel(\"True Label\")\n",
        "    plt.title(\"Confusion Matrix\")\n",
        "    plt.show()\n",
        "\n",
        "# Load the test data\n",
        "test_dataset = torchvision.datasets.MNIST(root='./data', train=False, transform=transform, download=True)\n",
        "test_loader = DataLoader(test_dataset, batch_size=64, shuffle=False)\n",
        "\n",
        "# Call the function to evaluate the model\n",
        "evaluate_model(model, test_loader)"
      ],
      "metadata": {
        "colab": {
          "base_uri": "https://localhost:8080/",
          "height": 1000
        },
        "id": "g1UvU6AZVT6I",
        "outputId": "a1155387-d9c5-4f74-ed6f-3e0da82c4fbe"
      },
      "execution_count": 23,
      "outputs": [
        {
          "output_type": "stream",
          "name": "stdout",
          "text": [
            "Accuracy: 0.9915\n",
            "\n",
            "Classification Report:\n",
            "               precision    recall  f1-score   support\n",
            "\n",
            "           0     0.9979    0.9898    0.9939       980\n",
            "           1     0.9982    0.9930    0.9956      1135\n",
            "           2     0.9846    0.9922    0.9884      1032\n",
            "           3     0.9931    0.9960    0.9946      1010\n",
            "           4     0.9929    1.0000    0.9964       982\n",
            "           5     0.9856    0.9944    0.9900       892\n",
            "           6     0.9896    0.9927    0.9911       958\n",
            "           7     0.9874    0.9912    0.9893      1028\n",
            "           8     0.9927    0.9836    0.9881       974\n",
            "           9     0.9920    0.9822    0.9871      1009\n",
            "\n",
            "    accuracy                         0.9915     10000\n",
            "   macro avg     0.9914    0.9915    0.9914     10000\n",
            "weighted avg     0.9915    0.9915    0.9915     10000\n",
            "\n"
          ]
        },
        {
          "output_type": "display_data",
          "data": {
            "text/plain": [
              "<Figure size 1000x800 with 2 Axes>"
            ],
            "image/png": "[encoded data removed]"
          },
          "metadata": {}
        }
      ]
    }
  ]
}